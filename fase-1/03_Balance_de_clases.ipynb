{
  "cells": [
    {
      "cell_type": "markdown",
      "metadata": {
        "id": "0F_7fVGDQVVO"
      },
      "source": [
        "# **Balance de clases**"
      ]
    },
    {
      "cell_type": "markdown",
      "metadata": {},
      "source": [
        "<a target=\"_blank\" href=\"https://colab.research.google.com/github/daniel-lujan/intro-ia-project/blob/main/fase-1/03_Balance_de_clases.ipynb\">\n",
        "  <img src=\"https://colab.research.google.com/assets/colab-badge.svg\" alt=\"Open In Colab\"/>\n",
        "</a>"
      ]
    },
    {
      "cell_type": "markdown",
      "metadata": {
        "id": "bMMs5jQClULV"
      },
      "source": [
        "### **Carga de datos pre-tratados**"
      ]
    },
    {
      "cell_type": "code",
      "execution_count": 1,
      "metadata": {
        "id": "eAZHydXao9-L"
      },
      "outputs": [],
      "source": [
        "import pandas as pd\n",
        "import numpy as np\n",
        "from matplotlib import pyplot as plt\n",
        "\n",
        "from imblearn.under_sampling import RandomUnderSampler\n",
        "\n",
        "import urllib.request\n",
        "import pickle"
      ]
    },
    {
      "cell_type": "code",
      "execution_count": 2,
      "metadata": {
        "id": "mB-VgMvnlXLc"
      },
      "outputs": [
        {
          "name": "stderr",
          "output_type": "stream",
          "text": [
            "C:\\Users\\PC\\AppData\\Local\\Temp\\ipykernel_15572\\2063132598.py:1: DeprecationWarning: numpy.core.numeric is deprecated and has been renamed to numpy._core.numeric. The numpy._core namespace contains private NumPy internals and its use is discouraged, as NumPy internals can change without warning in any release. In practice, most real-world usage of numpy.core is to access functionality in the public NumPy API. If that is the case, use the public NumPy API. If not, you are using NumPy internals. If you would still like to access an internal attribute, use numpy._core.numeric._frombuffer.\n",
            "  x = pickle.loads(\n",
            "C:\\Users\\PC\\AppData\\Local\\Temp\\ipykernel_15572\\2063132598.py:4: DeprecationWarning: numpy.core.numeric is deprecated and has been renamed to numpy._core.numeric. The numpy._core namespace contains private NumPy internals and its use is discouraged, as NumPy internals can change without warning in any release. In practice, most real-world usage of numpy.core is to access functionality in the public NumPy API. If that is the case, use the public NumPy API. If not, you are using NumPy internals. If you would still like to access an internal attribute, use numpy._core.numeric._frombuffer.\n",
            "  y = pickle.loads(\n"
          ]
        }
      ],
      "source": [
        "x = pickle.loads(\n",
        "        urllib.request.urlopen(\"https://github.com/daniel-lujan/intro-ia-project/raw/main/preprocessed-data/basic/X-preprocessed.p\").read()\n",
        "    )\n",
        "y = pickle.loads(\n",
        "        urllib.request.urlopen(\"https://github.com/daniel-lujan/intro-ia-project/raw/main/preprocessed-data/basic/y-preprocessed.p\").read()\n",
        "    )"
      ]
    },
    {
      "cell_type": "code",
      "execution_count": 3,
      "metadata": {
        "id": "C_H1V6UilmIA"
      },
      "outputs": [],
      "source": [
        "def muestras_por_clases (Y):\n",
        "    \"\"\"Función que calcula el número de muestras por cada clase\n",
        "    Y: vector de numpy con las etiquetas de las muestras del conjunto X\n",
        "    retorna: diccionario [int/float:int/float]\n",
        "        con la estructura:{etiquetaclase1: número de muestras clase1, etiquetaclase2: número de muestras clase2}\n",
        "    \"\"\"\n",
        "    dicto = dict(zip(np.unique(Y,return_counts=True)[0], np.unique(Y,return_counts=True)[1]))\n",
        "    return (dicto)"
      ]
    },
    {
      "cell_type": "code",
      "execution_count": 4,
      "metadata": {
        "colab": {
          "base_uri": "https://localhost:8080/",
          "height": 472
        },
        "id": "BxYN119rlmIE",
        "outputId": "62f0841a-d57f-495b-8bbe-aeae1a3d6357"
      },
      "outputs": [
        {
          "data": {
            "image/png": "[encoded data removed]",
            "text/plain": [
              "<Figure size 640x480 with 1 Axes>"
            ]
          },
          "metadata": {},
          "output_type": "display_data"
        }
      ],
      "source": [
        "fig, ax = plt.subplots()\n",
        "ax.bar(muestras_por_clases(y).keys(), muestras_por_clases(y).values())\n",
        "ax.set_title(\"Número de muestras por clase\")\n",
        "ax.set_xlabel(\"etiqueta de la clase\")\n",
        "ax.set_ylabel(\"# muestras por clase\")\n",
        "ax.set_xticks(list(muestras_por_clases(y).keys()))\n",
        "ax.spines['top'].set_visible(False)\n",
        "ax.spines['right'].set_visible(False)\n",
        "plt.show()\n"
      ]
    },
    {
      "cell_type": "code",
      "execution_count": 5,
      "metadata": {
        "colab": {
          "base_uri": "https://localhost:8080/"
        },
        "id": "ZNT9Bm7x9IK7",
        "outputId": "2baf47a0-d83e-4e02-e3f6-bb0829b41aad"
      },
      "outputs": [
        {
          "name": "stdout",
          "output_type": "stream",
          "text": [
            "(np.int64(37155), np.int64(11687))\n",
            "El 76.07% de los datos son de la clase mayoritaria\n"
          ]
        }
      ],
      "source": [
        "m = tuple(muestras_por_clases(y).values())\n",
        "print(m)\n",
        "print(f\"El {(m[0]* 100 / (m[0] + m[1])):.2f}% de los datos son de la clase mayoritaria\")"
      ]
    },
    {
      "cell_type": "markdown",
      "metadata": {
        "id": "KaWLsO8BQaLY"
      },
      "source": [
        "Podemos observar que existe un desbalance considerable en el número de muestras que corresponden a cada clase (el 76% de los datos corresponden a las muestras de personas cuyos ingresos no superan los 50 mil dólares anuales)."
      ]
    },
    {
      "cell_type": "markdown",
      "metadata": {
        "id": "BpEL7PxzzuzU"
      },
      "source": [
        "## **Undersampling**"
      ]
    },
    {
      "cell_type": "markdown",
      "metadata": {
        "id": "EfFACaDKQ0Wk"
      },
      "source": [
        "A continuación, se aplicó undersampling con el objetivo de obtener un dataset con las clases totalmente balanceadas."
      ]
    },
    {
      "cell_type": "code",
      "execution_count": 6,
      "metadata": {
        "id": "tFXe2HsXOaUr"
      },
      "outputs": [],
      "source": [
        "sampler = RandomUnderSampler(sampling_strategy=1.0)\n",
        "\n",
        "x, y = sampler.fit_resample(x, y)"
      ]
    },
    {
      "cell_type": "code",
      "execution_count": 7,
      "metadata": {
        "colab": {
          "base_uri": "https://localhost:8080/",
          "height": 472
        },
        "id": "8pxZa-gZRRjh",
        "outputId": "91b7ed7f-4c6e-4a46-f83b-a82811aa5026"
      },
      "outputs": [
        {
          "data": {
            "image/png": "[encoded data removed]",
            "text/plain": [
              "<Figure size 640x480 with 1 Axes>"
            ]
          },
          "metadata": {},
          "output_type": "display_data"
        }
      ],
      "source": [
        "fig, ax = plt.subplots()\n",
        "ax.bar(muestras_por_clases(y).keys(), muestras_por_clases(y).values())\n",
        "ax.set_title(\"Número de muestras por clase\")\n",
        "ax.set_xlabel(\"etiqueta de la clase\")\n",
        "ax.set_ylabel(\"# muestras por clase\")\n",
        "ax.set_xticks(list(muestras_por_clases(y).keys()))\n",
        "ax.spines['top'].set_visible(False)\n",
        "ax.spines['right'].set_visible(False)\n",
        "plt.show()"
      ]
    },
    {
      "cell_type": "code",
      "execution_count": 8,
      "metadata": {
        "colab": {
          "base_uri": "https://localhost:8080/"
        },
        "id": "lwciOzOlQLP3",
        "outputId": "50aee0d4-e9da-496a-d074-9a7e50435f33"
      },
      "outputs": [
        {
          "data": {
            "text/plain": [
              "dict_values([np.int64(11687), np.int64(11687)])"
            ]
          },
          "execution_count": 8,
          "metadata": {},
          "output_type": "execute_result"
        }
      ],
      "source": [
        "muestras_por_clases(y).values()"
      ]
    },
    {
      "cell_type": "code",
      "execution_count": 9,
      "metadata": {
        "colab": {
          "base_uri": "https://localhost:8080/"
        },
        "id": "ezZXzw14PkZT",
        "outputId": "a09ad65d-bda7-4907-b1ff-6bcd79f64108"
      },
      "outputs": [
        {
          "data": {
            "text/plain": [
              "(23374, 1)"
            ]
          },
          "execution_count": 9,
          "metadata": {},
          "output_type": "execute_result"
        }
      ],
      "source": [
        "y.shape"
      ]
    },
    {
      "cell_type": "markdown",
      "metadata": {
        "id": "yHsIPF3RvSQw"
      },
      "source": [
        "## **Exportación de datos tratados**"
      ]
    },
    {
      "cell_type": "code",
      "execution_count": 10,
      "metadata": {
        "id": "hMZtN53gvUtB"
      },
      "outputs": [],
      "source": [
        "x.to_pickle(\"./train-preprocessed.p\")\n",
        "y.to_pickle(\"./test-preprocessed.p\")"
      ]
    }
  ],
  "metadata": {
    "colab": {
      "provenance": []
    },
    "kernelspec": {
      "display_name": "Python 3",
      "name": "python3"
    },
    "language_info": {
      "codemirror_mode": {
        "name": "ipython",
        "version": 3
      },
      "file_extension": ".py",
      "mimetype": "text/x-python",
      "name": "python",
      "nbconvert_exporter": "python",
      "pygments_lexer": "ipython3",
      "version": "3.11.4"
    }
  },
  "nbformat": 4,
  "nbformat_minor": 0
}
